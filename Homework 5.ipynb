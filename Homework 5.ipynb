{
 "cells": [
  {
   "cell_type": "markdown",
   "metadata": {},
   "source": [
    "# Cullen Luong\n",
    "# Astrophysics 713 \n",
    "# Homework 5"
   ]
  },
  {
   "cell_type": "markdown",
   "metadata": {},
   "source": [
    "## Chapter 4 Question 5 \n"
   ]
  },
  {
   "cell_type": "markdown",
   "metadata": {},
   "source": [
    "We know that the Crab pulsar has frequency\n",
    "$\\omega_0 = 190 s^{-1}$\n",
    "\n",
    "$\\dot \\omega_0 = 2.4 \\times 10^{-9} $\n",
    "\n",
    "measured when age of nebula is 950 years old.  \n",
    "\n",
    "\n",
    "$E_{rot} = \\frac{1}{2}\\frac{I}{\\omega^2}$\n",
    "\n",
    "$\\frac{d E_{rot}}{dt} = I \\frac{d \\omega}{dt}\\omega \\sim \\omega^6$\n",
    "\n",
    "$\\frac{\\omega}{dt} = C \\omega^5 $\n",
    "\n",
    "Because we know the $\\omega $ and $\\dot \\omega$ at current time 0 we also know C.\n",
    "\n",
    "$\\frac{d \\omega}{d t} = \\frac{\\dot \\omega_{0}}{\\omega_0^5} \\omega^5 $\n",
    "\n",
    "Solving Differential equation we get\n",
    "\n",
    "$t  = \\frac{ \\omega_{0}^5}{4 \\dot \\omega_0} ( \\frac{1}{\\omega(t)^4}  -\\frac{1}{\\omega_i^4})  $\n",
    "\n",
    "Upper limit is found by taking the limit $\\omega_i = \\infty $ and current time $\\omega = \\omega_0 $\n",
    "\n",
    "$t_{upper} = \\frac{190}{4 \\times 2.4 \\times 10^{-9}} = 2 \\times 10^{10} s = 628 $ years, which is less the age of the neubula. \n",
    "\n",
    "Thus gravitational radiation cannot explain the age."
   ]
  },
  {
   "cell_type": "markdown",
   "metadata": {},
   "source": [
    "# Chapter 5 Question 2"
   ]
  },
  {
   "cell_type": "markdown",
   "metadata": {},
   "source": [
    "Number of stars per unit mass interval is\n",
    "\n",
    "$\\frac{dN}{dM} \\sim M^{-2.35}$\n",
    "\n",
    "Thus the total number of stars in the range of masses $[M_a,M_b]  $ is\n",
    "\n",
    "$N \\sim M_b^{-1.35} - M_a^{-1.35} $"
   ]
  },
  {
   "cell_type": "markdown",
   "metadata": {},
   "source": [
    "a.) \n",
    "\n",
    "Fraction of stars above from 8 to 100 $M_ { \\odot }$\n",
    "\n",
    "$ \\frac{8^{-1.35}-100^{-1.35}}{0.4^{-1.35}-100^{-1.35}} $\n",
    "\n",
    "#### $0.017$ fraction of stars  from 8 to 100 $M_ { \\odot }$\n",
    "\n",
    "\n",
    "Total number of neutron stars and black holes is the fraction times the total number of stars\n",
    "\n",
    "\n",
    "$0.017 \\times 10^{11}$ neutron stars and black holes\n",
    "\n",
    "#### $1.7 \\times 10^9 $  neutron stars and black holes\n",
    "\n",
    "\n",
    "Total mass, assuming average is 1.4 $M_ { \\odot } $\n",
    "\n",
    "$1.4 \\times 1.7 \\times 10^9  M_ { \\odot }$\n",
    "\n",
    "#### $2.4 \\times 10^9 M_ { \\odot } $"
   ]
  },
  {
   "cell_type": "markdown",
   "metadata": {},
   "source": [
    "b.)\n",
    "\n",
    "Total mass of iron from stellar remnants is \n",
    "\n",
    "$0.05 \\times 2.4 \\times 10^9 M_ { \\odot }$\n",
    "\n",
    "$1.2 \\times 10^8 M_ { \\odot } $\n",
    "\n",
    "Mass abundance of iron is then found by dividing by total mass of galaxy\n",
    "\n",
    "$Z_{Fe,\\odot} = \\frac{1.2 \\times 10^8 M_ { \\odot } }{5 \\times 10^10 M_ { \\odot }} $\n",
    "\n",
    "$Z_{Fe,\\odot} = 0.0024 \\sim 0.00177 $\n"
   ]
  },
  {
   "cell_type": "markdown",
   "metadata": {},
   "source": [
    "c.)\n",
    "If half of all stars are in a binary system then the total number of pairs is \n",
    "\n",
    "$0.25 \\times 10^{11} $ binary systems\n",
    "\n",
    "We know the fraction of stars above 8 $M_\\odot $ so the probability of two stars being 8 $M_\\odot $ is simply the square of them $0.017 \\times 0.017 = 2.9 \\times 10^{-4} $.\n",
    "\n",
    "Thus the total number of pair of stars above 8 $M_\\odot $ is\n",
    "\n",
    "$2.9 \\times 10^{-4} \\times 0.25 \\times 10^{11} $\n",
    "\n",
    "$7.3 \\times 10^6 $ binary systems above 8 $M_\\odot $ \n"
   ]
  },
  {
   "cell_type": "markdown",
   "metadata": {},
   "source": [
    "d.)\n",
    "\n",
    "Set the binding energy of the initial binary system  equal to the kinetic energy of the two neutron stars to find the maximum seperation r\n",
    "\n",
    "$G M_{i}^2/2r  = M_{n} v^2$\n",
    "\n",
    "$r = \\frac{G M_{i}^2}{2 M_{n} v^2} $\n",
    "\n",
    "$r = \\frac{6.67*10^{-11} (8  \\times 2 \\times 10^{30})^2}{2 \n",
    "\\times 1.4 \\times 2 \\times 10^{30} \\times (500 \\times 1000)^2} m $\n",
    "\n",
    "$r  =  2.4 \\times 10^{10} m = 2.4 \\times 10^10/(3.086\\times 10^16)  $pc\n",
    "\n",
    "$r = 7.9 \\times 10^{-7}  $ pc"
   ]
  },
  {
   "cell_type": "markdown",
   "metadata": {},
   "source": [
    "e.)\n",
    "\n",
    "Fraction of neutron stars below binding seperation is \n",
    "\n",
    "$\\frac{7.9 \\times 10^{-7} }{0.01} $\n",
    "\n",
    "$7.9 \\times 10^{-5} $\n",
    "\n",
    "Multiply by the number of binaries we got from above we get that\n",
    "\n",
    "$7.9 \\times 10^{-5} \\times 7.3 \\times 10^6 \\sim 600$ neutron star binaries"
   ]
  },
  {
   "cell_type": "code",
   "execution_count": null,
   "metadata": {},
   "outputs": [],
   "source": []
  }
 ],
 "metadata": {
  "kernelspec": {
   "display_name": "Python 3",
   "language": "python",
   "name": "python3"
  },
  "language_info": {
   "codemirror_mode": {
    "name": "ipython",
    "version": 3
   },
   "file_extension": ".py",
   "mimetype": "text/x-python",
   "name": "python",
   "nbconvert_exporter": "python",
   "pygments_lexer": "ipython3",
   "version": "3.6.5"
  }
 },
 "nbformat": 4,
 "nbformat_minor": 2
}
