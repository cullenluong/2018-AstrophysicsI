{
 "cells": [
  {
   "cell_type": "code",
   "execution_count": 32,
   "metadata": {},
   "outputs": [
    {
     "name": "stderr",
     "output_type": "stream",
     "text": [
      "/Users/zhzhu/miniconda3/lib/python3.6/site-packages/ipykernel_launcher.py:19: RuntimeWarning: overflow encountered in exp\n",
      "/Users/zhzhu/miniconda3/lib/python3.6/site-packages/ipykernel_launcher.py:30: RuntimeWarning: divide by zero encountered in log10\n"
     ]
    },
    {
     "data": {
      "image/png": "[encoded data removed]",
      "text/plain": [
       "<matplotlib.figure.Figure at 0x1191dfc88>"
      ]
     },
     "metadata": {},
     "output_type": "display_data"
    }
   ],
   "source": [
    "import numpy as np\n",
    "\n",
    "\n",
    "hcont=6.625e-27\n",
    "ccont=3.e10\n",
    "kcont=1.381e-16\n",
    "rcont=8.314472e7\n",
    "Gcont=6.67e-8\n",
    "Msun=1.989e33\n",
    "Lsun=3.827e33\n",
    "rsun=6.96e10\n",
    "yr=365.*24.*3600\n",
    "pi=3.1415926\n",
    "au=1.49598e13\n",
    "pc=3.085678e18\n",
    "ev=1.6022e-12\n",
    "\n",
    "def BlackbodyBnu(Temperature, nu):\n",
    "    return 2.*hcont*nu**3/ccont**2/(np.exp(hcont*nu/kcont/Temperature)-1)\n",
    "\n",
    "hnu=10.**np.arange(-1,4,0.1)*ev \n",
    "\n",
    "# white dwarf a single blackbody at 1e4 K\n",
    "\n",
    "Bnu=np.array(hnu.size)\n",
    "Temperature=1.e4\n",
    "\n",
    "Bnu=BlackbodyBnu(Temperature,hnu/hcont)\n",
    "\n",
    "p.plot(np.log10(hnu/ev),np.log10(Bnu))\n",
    "p.ylim(np.log10(Bnu.max())-4.,np.log10(Bnu.max()))\n",
    "p.xlabel(r'Log$_{10}(h\\nu/ev)$')\n",
    "p.show()\n",
    "\n",
    "# Question 1, what is the spectrum (Flux(pi*intensity) integrated over area) from the white dwarf \n",
    "# assuming the radius of the white dwarf is 10^4 km?\n",
    "\n",
    "# Question 2, We have an accretion disk around the white dwarf accreting at 10^{-9} Msun/year, what is the spectrum? \n",
    "# The accretion disk extends from white dwarf  surface to 100 white dwarf surface. The white dwarf mass is one solar mass\n",
    "\n",
    "# Question 3, Now we have an accretion disk around the neutron star, accreting at the same rate, what is the spectrum?\n",
    "\n",
    "# Question 4, Now we have an accreiotn disk around a solar mass blackhole. \n",
    "# For a non-rotating blackhole, the innermost stable orbit is 3 rs, For a maximum prograte spinning black hole, \n",
    "# the inner most stable orbit is 0.5 rs. For a maximum retrograte spinning blackhole, the innermost orbit is\n",
    "# 4.5 rs. Calculate the spectra for these three cases"
   ]
  },
  {
   "cell_type": "code",
   "execution_count": 26,
   "metadata": {},
   "outputs": [
    {
     "data": {
      "text/plain": [
       "12.067157658219946"
      ]
     },
     "execution_count": 26,
     "metadata": {},
     "output_type": "execute_result"
    }
   ],
   "source": [
    "2.8*kcont*Temperature/ev"
   ]
  },
  {
   "cell_type": "code",
   "execution_count": null,
   "metadata": {},
   "outputs": [],
   "source": []
  }
 ],
 "metadata": {
  "kernelspec": {
   "display_name": "Python 3",
   "language": "python",
   "name": "python3"
  },
  "language_info": {
   "codemirror_mode": {
    "name": "ipython",
    "version": 3
   },
   "file_extension": ".py",
   "mimetype": "text/x-python",
   "name": "python",
   "nbconvert_exporter": "python",
   "pygments_lexer": "ipython3",
   "version": "3.6.3"
  }
 },
 "nbformat": 4,
 "nbformat_minor": 2
}
