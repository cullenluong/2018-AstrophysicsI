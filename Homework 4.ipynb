{
 "cells": [
  {
   "cell_type": "markdown",
   "metadata": {},
   "source": [
    "# Homework 4\n",
    "# Astrophysics 713"
   ]
  },
  {
   "cell_type": "markdown",
   "metadata": {},
   "source": [
    "## Problem 1"
   ]
  },
  {
   "cell_type": "markdown",
   "metadata": {},
   "source": [
    "a.) \n",
    "\n",
    "Fermi energy in terms of momentum is \n",
    "\n",
    "$E_{f} = \\frac{p_f^2}{2 m_e} $\n",
    "\n",
    "Momentum in terms of number density is \n",
    "\n",
    "$n_e = \\frac{8 \\pi p_f^3}{3 h^3} $\n",
    "\n",
    "$p_f = (\\frac{3 h^3 n_e}{8 \\pi})^{\\frac{1}{3}} $\n",
    "\n",
    "Thus Fermi energy in terms of number density and electron mass is \n",
    "\n",
    "$E_{f} = (\\frac{3}{8 \\pi})^{\\frac{2}{3}}h^2 \\frac{n_e^{\\frac{1}{3}}}{m_e}$ "
   ]
  },
  {
   "cell_type": "markdown",
   "metadata": {},
   "source": [
    "b.)\n",
    "In white dwarf we have totally ionized carbon so we have\n",
    "\n",
    "$n_e = \\frac{\\rho}{2 m_p} $ ,  $\\rho = 10^6 g/cm^3 $ $m_p = 1.67 \\times 10^{-24} g$\n",
    "\n",
    "$n_ e = 3 \\times 10^{30} cm^{-3} $\n",
    "\n",
    "Therefore \n",
    "\n",
    "$ E_{f} = (\\frac{3}{8 \\pi})^{\\frac{2}{3}}(1.054 \\times 10^{-27} ergs \\cdot s)^2 (3\\times 10^{30} cm^{-3})^{\\frac{1}{3}} /(9 \\times 10^{-34} g)  $\n",
    "\n",
    "$E_f = 4.3 \\times 10^{-12} ergs $\n",
    "\n",
    "From ideal gas\n",
    "\n",
    "$E_{th} = \\frac{3 k T}{2} = \\frac{1.38 \\times 10^{-16} ergs \\cdot K^{-1} 10^7 K}{2}$\n",
    "$E_{th} = 2.1 \\times 10^{-9} ergs $\n",
    "\n",
    "The ratio of thermal energy to fermi energy is then\n",
    "\n",
    "$\\frac{E_{th}}{E_f} = \\frac{2.1 \\times 10^{-9} }{4.3 \\times 10^{-12}} = 0.5 \\times 10^{-3} $\n",
    "\n",
    "Since the ratio is so small the vast majority of electrons energy will not approach that of fermi energy and thus electrons in the white dwarf are degenerate."
   ]
  },
  {
   "cell_type": "markdown",
   "metadata": {},
   "source": [
    "## Problem 4"
   ]
  },
  {
   "cell_type": "markdown",
   "metadata": {},
   "source": [
    "a.)\n",
    "\n",
    "The virial theorem states that \n",
    "$\\bar P = -\\frac{1}{3} \\frac{E_g}{V} $\n",
    "\n",
    "where gravitional potential energy $E_g \\sim - \\frac{ G M^2}{ r} $ and $V = \\frac{4 \\pi r^3}{3} $\n",
    "\n",
    "Thus the pressure in terms of mass and radius is \n",
    "\n",
    "$\\bar P = \\frac{ G M^2 }{4 \\pi r^4} $"
   ]
  },
  {
   "cell_type": "markdown",
   "metadata": {},
   "source": [
    "b.)\n",
    "$\\rho = \\frac{M}{4 V} $\n",
    "\n",
    "$v_s = \\sqrt \\frac{P}{\\rho} = \\sqrt \\frac{\\frac{ GM^2 }{V R}}{\\frac{M}{V}}$\n",
    "\n",
    "$v_s = \\sqrt \\frac{G M}{R} $\n",
    "\n",
    "$R = 10^7 m $ \n",
    "\n",
    "$M = 1.4 \\times 2 \\times 10^{30} kg$\n",
    "\n",
    "$v_s =  \\sqrt \\frac{G M }{r} = \\sqrt \\frac{6.67 \\times 10^{-11} \\times 1.4 \\times 2 \\times 10^{30} kg}{5 \\times 10^7 m}$\n",
    "\n",
    "$v_s = 4 \\times 10^6 m/s $\n",
    "\n",
    "$t = r/v_s  = 10^7/(4\\times 10^6 m/s) = 2.5 s$"
   ]
  },
  {
   "cell_type": "markdown",
   "metadata": {},
   "source": [
    "c.)\n",
    "\n",
    "$\\Delta E = 0.001 m c^2  = 0.001 \\times 1.4 \\times 2 \\times 10^{33} g \\times (3\\times 10^{10} cm/s)^2$\n",
    "\n",
    "$\\Delta E = 2.52  \\times 10^{51} ergs $\n",
    "\n",
    "$E_g = \\frac{G M^2}{R} = \\frac{3 \\times 6.67 \\times 10^{-8} (1.4 \\times 2 \\times 10^{33})^2}{10^{10}} $\n",
    "\n",
    "$E_g =  5 \\times 10^{49} ergs$\n",
    "\n",
    "$\\frac{\\Delta E}{E_g} =  50$\n",
    "\n",
    "The energy released is far greater than the gravitational binding energy, so the white dwarf will get ripped apart. "
   ]
  },
  {
   "cell_type": "markdown",
   "metadata": {},
   "source": [
    "d.)\n",
    "\n",
    "Fraction of Nickle that is converted to energy is \n",
    "\n",
    "$1-\\frac{  55.934941 }{55.942135} = 1.28597 \\times 10^{-4} $\n",
    "\n",
    "Assuming that all of dwarf star prior to supernova is composed nickle the total energy released is \n",
    "\n",
    "$E =  1.28597 \\times 10^{-4} \\times 1.4 \\times 2 \\times 10^{33} g \\times (3\\times 10^{10} cm/s)^2 $\n",
    "\n",
    "$E = 3.2 \\times 10^{50} ergs$\n",
    "\n",
    "The time it takes is the sum of the charateristic times\n",
    "\n",
    "$t= (8.8 + 111) $ days $= 119.8 $ days\n",
    "\n",
    "Lumonisity is then\n",
    "\n",
    "$\\frac{L}{L_\\bigodot} = \\frac{\\frac{3.2 \\times 10^{50} ergs}{119.8*3600*24 s}}{3.839 \\times 10^{33} ergs \\cdot s^{-1}} $\n",
    "\n",
    "$L = 8.1 \\times 10^ 9 L_\\bigodot \\sim 10^{10} L_\\bigodot$"
   ]
  },
  {
   "cell_type": "markdown",
   "metadata": {},
   "source": [
    "e.)\n",
    "Photon diffusion time is\n",
    "\n",
    "$t = \\frac{R^2}{l c}  $\n",
    "\n",
    "and mean free path is \n",
    "\n",
    "$l = (\\kappa \\rho)^{-1} = (\\frac{3 \\kappa*M}{4 \\pi R^3})^{-1} $\n",
    "\n",
    "Combining above 2 we get\n",
    "\n",
    "$t = \\frac{3 \\kappa M}{4 \\pi c R} $\n",
    "\n",
    "By making the subsition $R = v t $ and solving for t we get\n",
    "\n",
    "$t = \\sqrt \\frac{3 \\kappa M}{4 \\pi c v} $\n",
    "\n",
    "$t =  \\sqrt \\frac{3 (0.3 cm^2 \\cdot gm^{-1} (1.4*10^{33} g)}{4 \\pi (3 \\times 10^{10} cm/s) (3 \\times 10^9 cm/s)} $\n",
    "\n",
    "$t =1.5 \\times 10^6 /(3600*24) days = 17.3  $ days"
   ]
  },
  {
   "cell_type": "code",
   "execution_count": null,
   "metadata": {},
   "outputs": [],
   "source": []
  }
 ],
 "metadata": {
  "kernelspec": {
   "display_name": "Python 3",
   "language": "python",
   "name": "python3"
  },
  "language_info": {
   "codemirror_mode": {
    "name": "ipython",
    "version": 3
   },
   "file_extension": ".py",
   "mimetype": "text/x-python",
   "name": "python",
   "nbconvert_exporter": "python",
   "pygments_lexer": "ipython3",
   "version": "3.6.5"
  }
 },
 "nbformat": 4,
 "nbformat_minor": 2
}
