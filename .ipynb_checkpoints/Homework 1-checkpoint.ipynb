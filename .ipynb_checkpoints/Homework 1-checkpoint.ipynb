{
 "cells": [
  {
   "cell_type": "markdown",
   "metadata": {},
   "source": [
    "## Chapter 1 Problem 2"
   ]
  },
  {
   "cell_type": "markdown",
   "metadata": {},
   "source": [
    "A CCD detector at the focal plane of a 1-meter-diameter telescope records\n",
    "the image of a certain star. Due to the blurring effect of the atmosphere (this\n",
    "is called “seeing” by astronomers) the light from the star is spread over a\n",
    "circular area of radius R pixels. The total number of photoelectrons over\n",
    "this area, accumulated during the exposure, and due to the light of the star, is\n",
    "Nstar. Light from the sky produces nsky photoelectrons per pixel in the same exposure"
   ]
  },
  {
   "cell_type": "markdown",
   "metadata": {},
   "source": [
    "a.) Calculate the signal-to-noise ratio (S/N) of the photometric measurement\n",
    "of the star, i.e., the ratio of the counts from the star to the uncertainty in this\n",
    "measurement. Assume Poisson statistics, i.e., that the “noise” is the square\n",
    "root of the total counts, from all sources."
   ]
  },
  {
   "cell_type": "markdown",
   "metadata": {},
   "source": [
    "Total Counts from Star = S = $N_{star} $\n",
    "\n",
    "Total Number of Pixels = $\\pi R^2 $\n",
    "\n",
    "Total Counts from Sky = $\\pi R^2 n_{sky} $\n",
    "\n",
    "Uncertainty = $\\sqrt{\\sum N}$ = $\\sqrt{N_{star} +\\pi R^2 n_{sky}} $\n",
    "\n",
    " $$\\frac{S}{N} = \\frac{N_{star}}{\\sqrt{N_{star} +\\pi R^2 n_{sky}}} $$"
   ]
  },
  {
   "cell_type": "markdown",
   "metadata": {},
   "source": [
    "b.)The same star is observed with the same exposure time, but with a 10-\n",
    "meter-diameter telescope. This larger telescope naturally has a larger light\n",
    "gathering area, but also is at a site with a more stable atmosphere, and therefore\n",
    "has 3 times better “seeing” (i.e., the light from the stars is spread over\n",
    "an area of radius R/3). Find the S/N in this case."
   ]
  },
  {
   "cell_type": "markdown",
   "metadata": {},
   "source": [
    " Number of counts is proportional to area of  telescope. Therefore $N_{star} \\propto diamter^2 $ \n",
    " \n",
    "$N_{star} \\rightarrow N_{star}(10)^2 $\n",
    "\n",
    "Better Seeing\n",
    "$R^2 \\rightarrow (R/3)^2 $\n",
    " \n",
    " Sky noise is also proportional to area of telescope.\n",
    " $n_{sky} \\rightarrow  100 n_{sky} $\n",
    "\n",
    "\n",
    " $$\\frac{S}{N} = \\frac{100 N_{star}}{\\sqrt{100 N_{star} +\\pi R^2 n_{sky}100/9}} =\n",
    " \\frac{300 N_{star}}{\\sqrt{900 N_{star} +100\\pi R^2 n_{sky}}}\n",
    " $$"
   ]
  },
  {
   "cell_type": "markdown",
   "metadata": {},
   "source": [
    "c.) Assuming that the star and the sky are not variable (i.e., photons arrive\n",
    "from them at a constant rate), find the functional dependence of S/N on exposure\n",
    "time, t, in two limiting cases: the counts from the star are much greater\n",
    "than the counts from the sky in the “seeing disk”; and vice versa."
   ]
  },
  {
   "cell_type": "markdown",
   "metadata": {},
   "source": [
    "$N_{star} = R_{star}t  $\n",
    "\n",
    "Where $R_{star} $ is the number of counts per unit time. \n",
    "\n",
    "$n_{sky} = r_{sky}t $\n",
    "\n",
    "Where $r_{sky} $ is the number of counter per unit time per pixel.\n",
    "\n",
    "$\\frac{S}{N} = \\frac{R_{star}t}{\\sqrt{R_{star}t+\\pi R^2 r_{sky} t}} = \\frac{R_{star}}{\\sqrt{R_{star}+\\pi R^2 r_{sky} }} \\sqrt{t} $\n",
    "\n",
    " Source Limited Case:  $R_{star} >> \\pi R^2 r_{sky} $\n",
    "\n",
    "$$\\frac{S}{N} = \\sqrt{R_{star}} \\sqrt{t}  = \\sqrt{N_{star}}$$\n",
    "  Background LImited Case:\n",
    "  $  \\pi R^2 r_{sky} >> R_{star} $\n",
    "  \n",
    "  $$\\frac{S}{N} = \\frac{R_{star}}{\\sqrt{\\pi R^2 r_{sky}}} \\sqrt{t} $$\n",
    "  \n",
    "  In any case \n",
    "  $$\\frac{S}{N} \\propto \\sqrt{t}$$\n",
    " \n"
   ]
  },
  {
   "cell_type": "markdown",
   "metadata": {},
   "source": [
    "D. Based on the results of (c), by what factor does the exposure time with the\n",
    "1 m telescope need to be increased, in order to reach the S/N obtained with\n",
    "the 10 m telescope, for each of the two limiting cases?"
   ]
  },
  {
   "cell_type": "markdown",
   "metadata": {},
   "source": [
    "For the 1 m case \n",
    "$ \\frac{S}{N} = \\frac{R_{star}}{\\sqrt{R_{star} +\\pi R^2 r_{sky}}} \\sqrt{t_1} $\n",
    "\n",
    "For the 10 m case in part b\n",
    "\n",
    "$ \\frac{S}{N} = \\frac{100 R_{star}}{\\sqrt{100 R_{star}+100\\pi R^2 r_{sky}/9}} \\sqrt{t_{10}}$\n",
    "\n",
    "We the two cases equal to one another and solve for $t_{1}$ to get the factor increased compared to exposure time of 10m telescope  $t_{10}$. \n",
    "\n",
    "$$t_1 = 10,000 \\frac{R_{star}+\\pi R^2 r_{sky}}{100 R_{star}+100\\pi R^2 r_{sky}/9} t_{10}  $$\n",
    "\n",
    "Source Limited Case: $R_{star} >> \\pi R^2 r_{sky} $\n",
    "\n",
    "$$ t_1 = 10,000 \\frac{R_{star}}{100 R_{star}}t_{10} = 100 t_{10}$$\n",
    "\n",
    "Background Limited Case: $ \\pi R^2 r_{sky} >> R_{star} $\n",
    "\n",
    "$$ t_1 = 10,000 \\frac{\\pi R^2 r_{sky}}{100\\pi R^2 r_{sky}/9} t_{10} = 900 t_{10}$$\n"
   ]
  }
 ],
 "metadata": {
  "kernelspec": {
   "display_name": "Python 3",
   "language": "python",
   "name": "python3"
  },
  "language_info": {
   "codemirror_mode": {
    "name": "ipython",
    "version": 3
   },
   "file_extension": ".py",
   "mimetype": "text/x-python",
   "name": "python",
   "nbconvert_exporter": "python",
   "pygments_lexer": "ipython3",
   "version": "3.6.4"
  }
 },
 "nbformat": 4,
 "nbformat_minor": 2
}
