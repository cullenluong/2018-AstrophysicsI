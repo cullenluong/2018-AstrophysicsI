{
 "cells": [
  {
   "cell_type": "markdown",
   "metadata": {},
   "source": [
    "# Lecture Problem.\n",
    "\n",
    "Radio Telescope recieves $F_{\\nu} = 100$ mJ radiative flux density of wavelength 1 mm from dust cloud of distance $d = 100$ parsecs away with dust size of 1 cm. Find the total dust mass."
   ]
  },
  {
   "cell_type": "markdown",
   "metadata": {},
   "source": [
    "We start with the differential equation for the emission and absorption of radiation\n",
    "\n",
    "$\\frac { d I _ { v } } { d \\tau _ { \\nu }  } = S _ { v } - I _ { v }$\n",
    "\n",
    "Using integrating factors we get the solution\n",
    "\n",
    "$I _ { \\nu } \\left( \\tau _ { \\nu } \\right) = I _ { \\nu } ( 0 ) e ^ { - \\tau _ { \\nu } } + S _ { \\nu } \\left( 1 - e ^ { - \\tau _ { \\nu } } \\right)$\n",
    "\n",
    "Where the optical depth $\\tau _ { \\nu } $is assuming absorption coefficent is constant and the radiation travels a distance $s$.\n",
    "\n",
    "$\\tau _ { \\nu }= \\alpha s = K_\\nu \\rho s$ \n",
    "\n",
    "Optically Thin Limit, $\\tau _ { \\nu } \\rightarrow 0 $\n",
    "\n",
    "$I _ { \\nu } \\simeq   \\mathcal { S } _ { \\nu } \\tau _ { \\nu }$ \n",
    "with\n",
    "$I _ { \\nu } ( 0 ) = 0 $\n",
    "\n",
    "The flux is  related to the specific intensity as\n",
    "\n",
    "$F _ { \\nu } = \\int_{source}  I _ { \\nu } \\cos \\theta d \\Omega \\simeq I_{\\nu} d \\Omega $ \n",
    "\n",
    "Assuming that the cloud is a box with side $s$\n",
    "the solid angle is about\n",
    "\n",
    "$d\\Omega = \\frac{ s^2}{d^2}  $\n",
    "\n",
    "Assuming thermodynamic equilibrium so that the source is equal to Planck's law $S_{nu} $ we can write the flux as \n",
    "\n",
    "$F = B_{\\nu}\\tau d\\Omega = B_{\\nu} K_\\nu \\rho s \\frac{ s^2}{d^2}$\n",
    "\n",
    "Assuming cloud is of constant density $\\rho = \\frac{ M}{ s^3} $ we can finally solve for the total mass $M$.\n",
    "\n",
    "$F = B_{\\nu} K_{\\nu} M/d^2 $\n",
    "\n",
    "$M = \\frac{F d^2}{B\\nu K_\\nu} $\n",
    "\n"
   ]
  },
  {
   "cell_type": "markdown",
   "metadata": {},
   "source": [
    "\n",
    "\n",
    "Planck's Law can be written as Rayleigh Jean's law since  $ h v << k _ { B } T$ with $\\frac{\\nu}{c} = \\frac{1}{\\lambda} $\n",
    "\n",
    "$B_{\\nu} = \\frac { 2 \\nu ^ { 2 } k _ { B } T _ { b } } { c ^ { 2 } } =2(1/0.1 cm)^2 (1.3807 \\times 10 ^ { - 16 } \\mathrm { cm } ^ { 2 } \\mathrm { g } \\mathrm { s } ^ { - 2 } \\mathrm { K } ^ { - 1 }) 20 \\mathrm K = 5.52 \\times 10^{-10} ergs/cm\n",
    "2\n",
    "/s/st/Hz$"
   ]
  },
  {
   "cell_type": "markdown",
   "metadata": {},
   "source": [
    "To solve for the opacity $K_\\nu $ we use the equation\n",
    "$\\alpha = \\rho K_\\nu = N \\sigma $\n",
    "\n",
    "\n",
    "The dust particles are spherical with a radius $s_{d} = 1 cm$, with a density $\\rho = \\frac{1 g}{cm^3} $, and assuming dust are composed C,O, and Si with density of close to 1 $g/cm^3$  for simplicity.\n",
    "\n",
    "$N  = \\frac{\\rho}{\\bar m} = \\frac{1}{ \\frac{4 \\pi s_{d}^3}{3}} $\n",
    "\n",
    "$\\sigma = \\pi s_{d}^2 $\n",
    "\n",
    "$K_{\\nu} = \\frac{N \\sigma }{\\rho} = \\frac{3}{16} \\sim 0.2 gm^{-1} cm^2$\n",
    "\n",
    "\n",
    "Finally we convert the flux and distances to cgs\n",
    "\n",
    "\n",
    "0.1 Jansky = $0.1  \\times 10 ^ { - 23 } \\frac { \\text { erg } } { s \\cdot \\mathrm { cm } ^ { 2 } \\cdot \\mathrm { Hz } }$ = $1  \\times 10 ^ { - 24 } \\frac { \\text { erg } } { s \\cdot \\mathrm { cm } ^ { 2 } \\cdot \\mathrm { Hz } }$ \n",
    "\n",
    "100 pc = $100 \\times 3.083 \\times 10^{18} cm $ = $ 3.083 \\times 10^{20} cm $ \n",
    "\n",
    "The total mass is then \n",
    "\n",
    "$M = \\frac{(1  \\times 10 ^ { - 24 })( 3. \\times 10^{20})^2 }{(5.5 \\times 10^{-13})(0.2)}\\mathrm{g} $\n",
    "\n",
    "$M = 8 \\times 10^{29} \\mathrm{g} \\times \\frac{1 \\mathrm{M_{\\odot}}}{2 \\times 10^{33} \\mathrm{g}} = 4 \\times 10^{-4} \\mathrm{M_{\\odot}} $\n",
    "\n",
    "\n",
    "\n"
   ]
  },
  {
   "cell_type": "markdown",
   "metadata": {},
   "source": [
    "# Chapter 2 Problem 4.\n",
    "\n",
    "The maximal radial velocities measured for the two components of a spectroscopic\n",
    "binary are 100 km s−1 and 200 km s−1, with an orbital period of\n",
    "2 days. The orbits are circular.\n",
    "\n",
    "$ v_{ 1 obs } = 100$ km $s^{-1} $\n",
    "\n",
    "$ v_{ 2 obs } = 200$ km $s^{-1} $\n",
    "\n",
    "$\\tau = 2 $ days $= 172800$ seconds \n",
    "\n",
    "a.)\n",
    "Mass Ratio of the Two Stars\n",
    "$\\frac { \\left| v _ { 1 \\mathrm { obs } } \\right| } { \\left| v _ { 2 \\mathrm { obs } } \\right| } = \\frac { r _ { 1 } } { r _ { 2 } } = \\frac { M _ { 2 } } { M _ { 1 } }$\n",
    "\n",
    "$\\frac{M_2}{M_1} = \\frac{100}{200} = \\frac{1}{2}  $"
   ]
  },
  {
   "cell_type": "markdown",
   "metadata": {},
   "source": [
    "c.)\n",
    "\n",
    "The average value is \n",
    "$ \\left\\langle \\sin^3(\\theta) \\right\\rangle = \\frac{  \\int _0^{\\pi }\\int _0^{2 \\pi }\\sin ^4(\\theta )d\\phi d\\theta }{4 \\pi }$\n",
    "\n",
    "By using the trig identities and expanding product we get that\n",
    "\n",
    "$ \\int _0^{\\pi } \\sin^4 \\theta d\\theta = \\frac{3\\pi}{8}$\n",
    "\n",
    "Thus \n",
    "\n",
    "$ \\left\\langle \\sin^3(\\theta) \\right\\rangle $ = $\\frac{\\frac{3 \\pi^2}{4}}{4 \\pi} = \\frac{3 \\pi}{16} \\simeq 0.589 $\n",
    "\n",
    "$M_1 = \\frac{3.72 \\mathrm{M_s}}{0.589} = 6.32 \\mathrm{M_s}$\n",
    "\n",
    "$M_2 =\\frac{1.86 \\mathrm{M_s}}{0.589} =  3.16 \\mathrm{M_s} $"
   ]
  }
 ],
 "metadata": {
  "kernelspec": {
   "display_name": "Python 3",
   "language": "python",
   "name": "python3"
  },
  "language_info": {
   "codemirror_mode": {
    "name": "ipython",
    "version": 3
   },
   "file_extension": ".py",
   "mimetype": "text/x-python",
   "name": "python",
   "nbconvert_exporter": "python",
   "pygments_lexer": "ipython3",
   "version": "3.6.5"
  }
 },
 "nbformat": 4,
 "nbformat_minor": 2
}
