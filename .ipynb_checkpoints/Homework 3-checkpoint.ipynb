{
 "cells": [
  {
   "cell_type": "markdown",
   "metadata": {},
   "source": [
    "# Cullen Luong\n",
    "# Astrophysics 713\n",
    "# Homework 3\n",
    "# 9/23/2018"
   ]
  },
  {
   "cell_type": "markdown",
   "metadata": {},
   "source": [
    "## Chapter 3 Problem 4"
   ]
  },
  {
   "cell_type": "markdown",
   "metadata": {},
   "source": [
    "a.)\n",
    "\n",
    "From Hydrostatic Equilibrium\n",
    "\n",
    "$\\frac{P}{r} = -\\frac{GM}{r^2} $ \n",
    "\n",
    "$M = \\rho \\frac{4}{3} \\pi r^3$\n",
    "\n",
    "$\\frac{P}{r} = -\\frac{4 \\pi \\rho^2 G}{3}r $\n",
    "\n",
    "Solving this differential equation leads to \n",
    "\n",
    "$P = \\frac{2 \\pi \\rho^2 G}{3}(C-r^2) $\n",
    "\n",
    "Choose  $C = R^2 $ to satisfy boundary conditions\n",
    "\n",
    "$P = \\frac{2 \\pi \\rho^2 G}{3}(R^2-r^2) $\n"
   ]
  },
  {
   "cell_type": "markdown",
   "metadata": {},
   "source": [
    "b.)\n",
    "\n",
    "From ideal gas law stated in terms of density and average mass per particle $\\bar{m} $\n",
    "\n",
    "$P = \\frac{\\rho k T}{\\bar{m}} $\n",
    "\n",
    "We have P from above so solving for T we get\n",
    "\n",
    "$T = \\frac{2 \\pi \\rho \\bar{m} G}{3k}(R^2-r^2)  $"
   ]
  },
  {
   "cell_type": "markdown",
   "metadata": {},
   "source": [
    "c.)\n",
    "From above $\\epsilon \\sim (R^2-r^2)^4 $\n",
    "\n",
    "At center $ \\epsilon_{0} \\sim (R^2)^4$\n",
    "\n",
    "Scaling to find radius at which $\\epsilon$ is at 0.1 of center,\n",
    "\n",
    "$\\frac{\\epsilon}{\\epsilon_{0}} = 0.1 =  (1-r^2/R^2)^4 $\n",
    "\n",
    "Solving for r in terms of R we get\n",
    "\n",
    "$r = \\sqrt{(1-0.1^{1/4})} R = 0.66 R$\n",
    "\n",
    "Volume is is proportional to r^3 so the fraction of volume enclosed is\n",
    "\n",
    "$\\frac{V(r)}{V(R)} = ((1-0.1^{1/4}))^{3/2} = 0.29 $\n"
   ]
  },
  {
   "cell_type": "markdown",
   "metadata": {},
   "source": [
    "## Chapter 3 Problem 6"
   ]
  },
  {
   "cell_type": "markdown",
   "metadata": {},
   "source": [
    "a.)\n",
    "\n",
    "In a fully ionized gas we have one nucleus with a mass of 12 $m_{h} $ and 6 electrons where $m_e \\sim 0 $. \n",
    "\n",
    "Thus we get\n",
    "\n",
    "$\\bar{m} = \\frac{12 m_{h}}{1+6} $\n",
    "\n",
    "$\\bar{m} = \\frac{12}{7}m_{h} $"
   ]
  },
  {
   "cell_type": "markdown",
   "metadata": {},
   "source": [
    "b.)\n",
    "\n",
    "Using the virial theorem where $E_{g} = \\frac{G M^2}{r}$\n",
    "\n",
    "$P = -\\frac{1}{3} \\frac{E_{g}}{V} = \\frac{G M^2}{3 V r}  $\n",
    "\n",
    "The ideal gas law gives us\n",
    "\n",
    "$P = \\frac{\\rho K T_c}{\\bar{m}} = \\frac{M k T_c}{V \\bar{m}} $\n",
    "\n",
    "Equating the above we get\n",
    "\n",
    "$\\frac{G M^2}{3 r} V = \\frac{M K T_c}{V \\bar{m}}$\n",
    "\n",
    "Then we solve for the radius\n",
    "\n",
    "$r = \\frac{G M \\bar{m}}{3 k T_c} $\n",
    "\n",
    "Using scaling from the sun we get\n",
    "\n",
    "$r = \\frac{M \\bar{m}}{M_{\\bigodot} \\bar{m}_{\\bigodot}} \\frac{T_{c, \\bigodot}}{T_c}  r_{\\bigodot} $\n",
    "\n",
    "\n",
    "$r = \\frac{10 \\star 12/7 m_{h}}{ 0.61 m_{h} } \\frac{1.5 \\times 10^7 K}{6 \\times 10^8 K}  r_{\\bigodot} $\n",
    "\n",
    "$r = 0.7  r_{\\bigodot}$"
   ]
  },
  {
   "cell_type": "markdown",
   "metadata": {},
   "source": [
    "c.)\n",
    "\n",
    "We know that Lumonsity is related to temperature as\n",
    "\n",
    "$L \\sim T^4 r^2 $\n",
    "\n",
    "So using scaling we get that \n",
    "\n",
    "$\\frac{L}{L_{\\bigodot}} = (\\frac{T}{T_{\\bigodot}})^4  (\\frac{r}{r_{\\bigodot}})^2 = 10^7$\n",
    "\n",
    "We know r from above and surface temperature of sun is $T_{\\bigodot}= 6000 K$ so we get\n",
    "\n",
    "$\\frac{T^4}{6000^4}{0.7} = 10^7 $\n",
    "\n",
    "$T  =(\\frac{10^7 \\times 6000^4}{0.7})^{1/4} K $\n",
    "\n",
    "$T = 4 \\times 10^5 K  $"
   ]
  },
  {
   "cell_type": "markdown",
   "metadata": {},
   "source": [
    "d.)\n",
    "\n",
    "The fraction of mass lost is simply the mass difference divided by the total mass\n",
    "\n",
    "$\\frac{24-23.985}{24} =  6.3 \\times 10^{-4}$"
   ]
  },
  {
   "cell_type": "markdown",
   "metadata": {},
   "source": [
    "e.)\n",
    "\n",
    "Since luminosity is the power output of the star we can simply divde the total rest energy of the mass lost by the star  by luminosity to estimate the time. \n",
    "\n",
    "$t = \\frac{0.1 \\times 10 \\times 6.3 \\times 10^{-4} \\times M_{\\bigodot} c^2 }{10^7 L_{\\bigodot}} $\n",
    "\n",
    "All in cgs\n",
    "\n",
    "$t = \\frac{6.3 \\times 10^{-4} \\times 2 \\times 10^33 \\times (3 \\times 10^{10})^2}{10^7 \\times 3.8 \\times 10^{33}} $\n",
    "\n",
    "$t = 3 \\times 10^{10} s $\n",
    "\n",
    "In years \n",
    "\n",
    "$t = \\frac{3 \\times 10^{10}}{3600*24*365} = 951  $ years"
   ]
  }
 ],
 "metadata": {
  "kernelspec": {
   "display_name": "Python 3",
   "language": "python",
   "name": "python3"
  },
  "language_info": {
   "codemirror_mode": {
    "name": "ipython",
    "version": 3
   },
   "file_extension": ".py",
   "mimetype": "text/x-python",
   "name": "python",
   "nbconvert_exporter": "python",
   "pygments_lexer": "ipython3",
   "version": "3.6.5"
  }
 },
 "nbformat": 4,
 "nbformat_minor": 2
}
