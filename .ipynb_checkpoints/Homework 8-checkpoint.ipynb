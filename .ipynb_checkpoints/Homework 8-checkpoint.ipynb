{
 "cells": [
  {
   "cell_type": "markdown",
   "metadata": {},
   "source": [
    "### 7.4\n",
    "$N \\approx n \\sigma l$\n",
    "\n",
    "The cross section is \n",
    "\n",
    "$\\sigma = \\pi \\left( \\theta _ { \\mathrm { E } } D _ { \\mathrm { ol } } \\right) ^ { 2 } = \\pi \\frac { 4 \\mathrm { Gm } } { c ^ { 2 } } \\frac { D _ { \\mathrm { ls } } } { l D _ { \\mathrm { ol } } } D _ { \\mathrm { ol } } ^ { 2 } $\n",
    "\n",
    "and the number density is\n",
    "\n",
    "$n = \\approx \\frac { M _ { \\mathrm { DM } } } { m  \\pi l ^ { 2 } 2h} \\pi $\n",
    "\n",
    "$N \\approx \\frac { M _ { \\mathrm { DM } } } { m  \\pi l ^ { 2 } 2h} \\pi \\frac { 4 G m } { c ^ { 2 } } \\frac { D _ { 1 s } } { l D _ { \\mathrm { ol } } } D _ { \\mathrm { ol } } ^ { 2 } l$\n",
    "\n",
    "\n",
    "$D _ { \\mathrm { ls } } \\sim D _ { \\mathrm { ol } } \\sim l / 2 $\n",
    "\n",
    "$N \\approx \\frac { G M _ { \\mathrm { DM } } } { 2h c ^ { 2 } } $\n",
    "\n",
    "\n",
    "$N = \\frac{(6.67\\times10^{-8})\\times(5\\times10^{10}\\times2\\times10^{33})}{(3.083\\times10^{21})\\times(3\\times10^{10})^2} $\n",
    "\n",
    "$N \\approx P = 2.4\\times10^{-6}$\n",
    "\n",
    "$\\sigma _ { \\mathrm { T } } = \\frac { 8 \\pi } { 3 } \\left( \\frac { e ^ { 2 } } { m _ { e } c ^ { 2 } } \\right) ^ { 2 } = 6.7 \\times 10 ^ { - 25 } \\mathrm { cm } ^ { 2 }$\n",
    "\n",
    "## 8.3\n",
    "\n",
    "### a.)\n",
    "\n",
    "$\\sigma_c \\approx \\sigma_t = 6.7\\times10^{-25} \\mathrm{cm}^2 $\n",
    "\n",
    "$n = 0.15 \\frac{M}{m_h 4 \\pi r^3/3}  = \\frac{0.001}{\\sigma_t 2r}$\n",
    "\n",
    "Solving for r\n",
    "\n",
    "$r = \\sqrt{\\frac{0.15}{0.001}\\frac{M}{m_h}\\frac{\\sigma_t}{4\\pi/3}} $\n",
    "\n",
    "$r = \\sqrt{\\frac{0.15}{0.001}\\frac{2\\times10^{14}\\times2\\times10^{33}}{1.67\\times10^{-24}}\\frac{ 6.7\\times10^{-25}}{4\\pi/3}} $\n",
    "\n",
    "$r = 3.39\\times10^{24} \\mathrm{cm} = 1.09 \\mathrm{Mpc} $\n",
    "\n",
    "$d = 2 r = 2.1 \\mathrm{Mpc} $\n",
    "\n",
    "### b.)\n",
    "$\\theta_D = \\frac{\\pi}{180} = \\frac{d}{D} $\n",
    "\n",
    "Solving for D\n",
    "\n",
    "$D = \\frac{180}{\\pi} d $\n",
    "\n",
    "$D = \\frac{180}{\\pi} 2.1 \\mathrm{Mpc} $\n",
    "\n",
    "$D = 120 \\mathrm{Mpc} $\n",
    "\n",
    "### c.)\n",
    " $H_0 = \\frac{v}{D} $\n",
    " $H_0 = \\frac{8400 \\mathrm{km}\\cdot \\mathrm{s^{-1}}}{120 \\mathrm{Mpc} } $\n",
    "  $H_0 = 70 \\mathrm{km} \\cdot \\mathrm{Mpc^{-1}} \\cdot \\mathrm{s}$"
   ]
  }
 ],
 "metadata": {
  "kernelspec": {
   "display_name": "Python 3",
   "language": "python",
   "name": "python3"
  },
  "language_info": {
   "codemirror_mode": {
    "name": "ipython",
    "version": 3
   },
   "file_extension": ".py",
   "mimetype": "text/x-python",
   "name": "python",
   "nbconvert_exporter": "python",
   "pygments_lexer": "ipython3",
   "version": "3.6.5"
  }
 },
 "nbformat": 4,
 "nbformat_minor": 2
}
